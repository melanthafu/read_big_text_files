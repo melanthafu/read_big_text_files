{
 "cells": [
  {
   "cell_type": "markdown",
   "metadata": {},
   "source": [
    "### Reading the usual size text file in Python\n",
    "the data comes fromhttps://sites.google.com/site/the74thhungergamesbyced/download-the-hunger-games-trilogy-e-book-txt-file, wchich is the first chapter of hunger games"
   ]
  },
  {
   "cell_type": "markdown",
   "metadata": {},
   "source": [
    "let's first read the first 500 lines from our large text file. And write it in the new text file output.text"
   ]
  },
  {
   "cell_type": "code",
   "execution_count": 28,
   "metadata": {
    "collapsed": false
   },
   "outputs": [],
   "source": [
    "input_file = open('TheHungerGames.txt', 'r')\n",
    "output_file = open('output.txt', 'w')"
   ]
  },
  {
   "cell_type": "code",
   "execution_count": 26,
   "metadata": {
    "collapsed": false
   },
   "outputs": [],
   "source": [
    "for lines in range(50):\n",
    "    line = input_file.readline()\n",
    "    output_file.write(line)"
   ]
  },
  {
   "cell_type": "markdown",
   "metadata": {},
   "source": [
    "and it will be an easy way to navigate the file to output.txt, say each time we save 50 lines"
   ]
  },
  {
   "cell_type": "markdown",
   "metadata": {},
   "source": [
    "while with regards to the big data, it cannot read all the data into RAM before attempting to process it line by line. This is likely the simplest way to cause the memory to overflow and an error raised. \n",
    "Let's fix this by reading the data in line by line, and write the lines in batch instead of single line, that helps us to save up a few thousand lines at a time and write them in one hit to reduce thrashing of your harddrive. A million lines is only 54 MB of RAM!"
   ]
  },
  {
   "cell_type": "code",
   "execution_count": 2,
   "metadata": {
    "collapsed": true
   },
   "outputs": [],
   "source": [
    "bunchsize = 1000000\n",
    "bunch = []\n",
    "with open('TheHungerGames.txt', 'r') as f, open('output.txt', 'w') as w:\n",
    "    for line in f:\n",
    "        bunch.append(line)\n",
    "        if len(bunch) == bunchsize:\n",
    "            w.write(line)\n",
    "            bunch = []\n",
    "        w.write(line)"
   ]
  }
 ],
 "metadata": {
  "kernelspec": {
   "display_name": "Python 2",
   "language": "python",
   "name": "python2"
  },
  "language_info": {
   "codemirror_mode": {
    "name": "ipython",
    "version": 2
   },
   "file_extension": ".py",
   "mimetype": "text/x-python",
   "name": "python",
   "nbconvert_exporter": "python",
   "pygments_lexer": "ipython2",
   "version": "2.7.13"
  }
 },
 "nbformat": 4,
 "nbformat_minor": 2
}
